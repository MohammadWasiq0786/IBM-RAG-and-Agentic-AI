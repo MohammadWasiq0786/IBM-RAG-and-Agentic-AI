{
 "cells": [
  {
   "cell_type": "markdown",
   "metadata": {},
   "source": [
    "<p style=\"text-align:center\">\n",
    "    <a href=\"https://skills.network\" target=\"_blank\">\n",
    "    <img src=\"https://cf-courses-data.s3.us.cloud-object-storage.appdomain.cloud/assets/logos/SN_web_lightmode.png\" width=\"200\" alt=\"Skills Network Logo\"  />\n",
    "    </a>\n",
    "</p>\n"
   ]
  },
  {
   "cell_type": "markdown",
   "metadata": {},
   "source": [
    "# **ReAct: Build Reasoning and Acting AI Agents with LangGraph**\n"
   ]
  },
  {
   "cell_type": "markdown",
   "metadata": {},
   "source": [
    "Estimated time needed: **90** minutes\n"
   ]
  },
  {
   "cell_type": "markdown",
   "metadata": {},
   "source": [
    "You're a software engineer on a mission: build an AI agent that doesn't just respond—it thinks. In this lab, you'll step into the role of an AI architect, designing a smart assistant that solves tough problems by reasoning through them and taking purposeful actions.\n",
    "\n",
    "Using the ReAct (Reasoning + Acting) framework, you'll teach your agent to think step by step, consult tools like search engines or calculators, and adapt on the fly. It’s not just about answers—it’s about how the agent gets there.\n",
    "\n",
    "By the end of the lab, your AI will face a mystery that can’t be solved with knowledge alone. It will need logic, resourcefulness, and the ability to act—just like you, the engineer who built it.\n",
    "\n",
    "## What is ReAct?\n",
    "\n",
    "**ReAct** stands for **Reasoning + Acting**. It's a framework that combines:\n",
    "\n",
    "1. **Reasoning**: The agent thinks through problems step by step, maintaining an internal dialogue about what it needs to do.\n",
    "2. **Acting**: The agent can use external tools (search engines, calculators, APIs) to gather information or perform actions.\n",
    "3. **Observing**: The agent processes the results from its actions and incorporates them into its reasoning.\n",
    "\n",
    "This creates a powerful loop: **Think → Act → Observe → Think → Act → ...**\n",
    "\n",
    "### Why ReAct Matters\n",
    "\n",
    "Traditional language models are limited by their training data cutoff and can't access real-time information. ReAct agents overcome this by:\n",
    "- Accessing current information through web searches\n",
    "- Performing calculations with specialized tools\n",
    "- Breaking down complex problems into manageable steps\n",
    "- Adapting their approach based on intermediate results\n"
   ]
  },
  {
   "cell_type": "markdown",
   "metadata": {},
   "source": [
    "## __Table of Contents__\n",
    "\n",
    "<ol>\n",
    "    <li><a href=\"#Objectives\">Objectives</a></li>\n",
    "    <li>\n",
    "        <a href=\"#Setup-&-Installation\">Setup & Installation</a>\n",
    "        <ol>\n",
    "            <li><a href=\"#Installing-Required-Libraries\">Installing Required Libraries</a></li>\n",
    "            <li><a href=\"#Importing-Required-Libraries\">Importing Required Libraries</a></li>\n",
    "        </ol>\n",
    "    </li>\n",
    "    <li>\n",
    "        <a href=\"#Understanding-Tools-in-ReAct\">Understanding Tools in ReAct</a>\n",
    "        <ol>\n",
    "            <li><a href=\"#1.-Web-Search-Tool\">1. Web Search Tool</a></li>\n",
    "            <li><a href=\"#Theory-behind-Web-Search-Tools\">Theory behind Web Search Tools</a></li>\n",
    "            <li><a href=\"#Testing-the-Search-Tool\">Testing the Search Tool</a></li>\n",
    "            <li><a href=\"#2.-Clothing-Recommendation-Tool\">2. Clothing Recommendation Tool</a></li>\n",
    "            <li><a href=\"#Why-this-Tool-Matters\">Why this Tool Matters</a></li>\n",
    "            <li><a href=\"#Creating-the-tool-Registry\">Creating the tool Registry</a></li>\n",
    "        </ol>\n",
    "    </li>\n",
    "    <li>\n",
    "        <a href=\"#Setting-up-the-Language-Model\">Setting up the Language Model</a>\n",
    "        <ol>\n",
    "            <li><a href=\"#Initializing-the-AI-Model\">Initializing the AI Model</a></li>\n",
    "            <li><a href=\"#Creating-the-System-Prompt\">Creating the System Prompt</a></li>\n",
    "            <li><a href=\"#The-System-Prompt's-Role\">The System Prompt's Role</a></li>\n",
    "            <li><a href=\"#Binding-Tools-to-the-Model\">Binding Tools to the Model</a></li>\n",
    "            <li>\n",
    "                <a href=\"#Understanding-Agent-State\">Understanding Agent State</a>\n",
    "                <ol>\n",
    "                    <li><a href=\"#What-is-Agent-State?\">What is Agent State?</a></li>\n",
    "                    <li><a href=\"#Demonstrating-State-Management\">Demonstrating State Management</a></li>\n",
    "                </ol>\n",
    "            </li>\n",
    "            <li>\n",
    "                <a href=\"#Manual-ReAct-Execution-(Understanding-the-Flow)\">Manual ReAct Execution (Understanding the Flow)</a>\n",
    "                <ol>\n",
    "                    <li><a href=\"#Step-1:-Initial-Query-Processing\">Step 1: Initial Query Processing</a></li>\n",
    "                    <li><a href=\"#Step-2:-Tool-Execution\">Step 2: Tool Execution</a></li>\n",
    "                    <li><a href=\"#Step-3:-Processing-Results-and-Next-Action\">Step 3: Processing Results and Next Action</a></li>\n",
    "                    <li><a href=\"#Step-4:-Final-Response-Generation\">Step 4: Final Response Generation</a></li>\n",
    "                </ol>\n",
    "            </li>\n",
    "            <li>\n",
    "                <a href=\"#Automating-ReAct-with-Graphs\">Automating ReAct with Graphs</a>\n",
    "                <ol>\n",
    "                    <li><a href=\"#Why-Use-Graphs?\">Why Use Graphs?</a></li>\n",
    "                    <li><a href=\"#Building-the-Core-Functions\">Building the Core Functions</a></li>\n",
    "                    <li><a href=\"#Constructing-the-State-Graph\">Constructing the State Graph</a></li>\n",
    "                    <li><a href=\"#Visualizing-the-Graph\">Visualizing the Graph</a></li>\n",
    "                </ol>\n",
    "            </li>\n",
    "            <li>\n",
    "                <a href=\"#Running-the-Complete-ReAct-Agent\">Running the Complete ReAct Agent</a>\n",
    "                <ol>\n",
    "                    <li><a href=\"#Final-Execution\">Final Execution</a></li>\n",
    "                    <li><a href=\"#The-Complete-ReAct-Cycle\">The Complete ReAct Cycle</a></li>\n",
    "                </ol>\n",
    "            </li>\n",
    "        </ol>\n",
    "    </li>\n",
    "    <li>\n",
    "        <a href=\"#Key-Takeaways\">Key Takeaways</a>\n",
    "        <ol>\n",
    "            <li><a href=\"#What-Makes-ReAct-Powerful\">What Makes ReAct Powerful</a></li>\n",
    "            <li><a href=\"#Best-Practices\">Best Practices</a></li>\n",
    "        </ol>\n",
    "    </li>\n",
    "    <li>\n",
    "        <a href=\"#Exercises\">Exercises</a>\n",
    "        <ol>\n",
    "            <li><a href=\"#Exercise-1---Build-a-Calculator-Tool\">Exercise 1 - Build a Calculator Tool</a></li>\n",
    "            <li><a href=\"#Exercise-2---Create-a-News-Summary-Tool\">Exercise 2 - Create a News Summary Tool</a></li>\n",
    "        </ol>\n",
    "    </li>\n",
    "    <li><a href=\"#Testing-Your-Solutions\">Testing Your Solutions</a></li>\n",
    "    <li><a href=\"#Authors\">Authors</a></li>\n",
    "</ol>\n"
   ]
  },
  {
   "cell_type": "markdown",
   "metadata": {},
   "source": [
    "## Objectives\n",
    "\n",
    "After completing this lab you will be able to:\n",
    "\n",
    " - Use the ReAct framework to solve multi-step problems with external tools\n",
    " - Teach an AI agent to reason step by step, take actions, and adapt based on results\n",
    " - Build a smart assistant that can handle tasks requiring logic and tool use\n"
   ]
  },
  {
   "cell_type": "markdown",
   "metadata": {},
   "source": [
    "----\n"
   ]
  },
  {
   "cell_type": "markdown",
   "metadata": {},
   "source": [
    "## Setup & Installation\n"
   ]
  },
  {
   "cell_type": "markdown",
   "metadata": {},
   "source": [
    "For this lab, we will be using the following libraries:\n",
    "\n",
    "\n",
    "- [`LangGraph`](https://www.langchain.com/langgraph): A framework for building stateful, multi-step AI applications using graphs.\n",
    "- [`LangChain`](https://www.langchain.com/): A toolkit that provides tools and abstractions for working with language models.\n",
    "- [`LangChain-OpenAI`](https://python.langchain.com/docs/integrations/llms/openai/): OpenAI integration for LangChain.\n",
    "- [`LangChain-Community`](https://python.langchain.com/api_reference/community/index.html): Community-contributed tools and integrations.\n"
   ]
  },
  {
   "cell_type": "markdown",
   "metadata": {},
   "source": [
    "### Installing Required Libraries\n"
   ]
  },
  {
   "cell_type": "code",
   "execution_count": 1,
   "metadata": {},
   "outputs": [
    {
     "name": "stdout",
     "output_type": "stream",
     "text": [
      "Requirement already satisfied: langgraph in /opt/conda/lib/python3.12/site-packages (0.5.4)\n",
      "Requirement already satisfied: langchain-openai in /opt/conda/lib/python3.12/site-packages (0.3.10)\n",
      "Collecting langchain-openai\n",
      "  Downloading langchain_openai-0.3.28-py3-none-any.whl.metadata (2.3 kB)\n",
      "Requirement already satisfied: langchain-core>=0.1 in /opt/conda/lib/python3.12/site-packages (from langgraph) (0.3.72)\n",
      "Requirement already satisfied: langgraph-checkpoint<3.0.0,>=2.1.0 in /opt/conda/lib/python3.12/site-packages (from langgraph) (2.1.1)\n",
      "Requirement already satisfied: langgraph-prebuilt<0.6.0,>=0.5.0 in /opt/conda/lib/python3.12/site-packages (from langgraph) (0.5.2)\n",
      "Requirement already satisfied: langgraph-sdk<0.2.0,>=0.1.42 in /opt/conda/lib/python3.12/site-packages (from langgraph) (0.1.74)\n",
      "Requirement already satisfied: pydantic>=2.7.4 in /opt/conda/lib/python3.12/site-packages (from langgraph) (2.10.6)\n",
      "Requirement already satisfied: xxhash>=3.5.0 in /opt/conda/lib/python3.12/site-packages (from langgraph) (3.5.0)\n",
      "Collecting openai<2.0.0,>=1.86.0 (from langchain-openai)\n",
      "  Using cached openai-1.97.1-py3-none-any.whl.metadata (29 kB)\n",
      "Requirement already satisfied: tiktoken<1,>=0.7 in /opt/conda/lib/python3.12/site-packages (from langchain-openai) (0.9.0)\n",
      "Requirement already satisfied: langsmith>=0.3.45 in /opt/conda/lib/python3.12/site-packages (from langchain-core>=0.1->langgraph) (0.3.45)\n",
      "Requirement already satisfied: tenacity!=8.4.0,<10.0.0,>=8.1.0 in /opt/conda/lib/python3.12/site-packages (from langchain-core>=0.1->langgraph) (8.5.0)\n",
      "Requirement already satisfied: jsonpatch<2.0,>=1.33 in /opt/conda/lib/python3.12/site-packages (from langchain-core>=0.1->langgraph) (1.33)\n",
      "Requirement already satisfied: PyYAML>=5.3 in /opt/conda/lib/python3.12/site-packages (from langchain-core>=0.1->langgraph) (6.0.2)\n",
      "Requirement already satisfied: typing-extensions>=4.7 in /opt/conda/lib/python3.12/site-packages (from langchain-core>=0.1->langgraph) (4.12.2)\n",
      "Requirement already satisfied: packaging>=23.2 in /opt/conda/lib/python3.12/site-packages (from langchain-core>=0.1->langgraph) (24.2)\n",
      "Requirement already satisfied: ormsgpack>=1.10.0 in /opt/conda/lib/python3.12/site-packages (from langgraph-checkpoint<3.0.0,>=2.1.0->langgraph) (1.10.0)\n",
      "Requirement already satisfied: httpx>=0.25.2 in /opt/conda/lib/python3.12/site-packages (from langgraph-sdk<0.2.0,>=0.1.42->langgraph) (0.28.1)\n",
      "Requirement already satisfied: orjson>=3.10.1 in /opt/conda/lib/python3.12/site-packages (from langgraph-sdk<0.2.0,>=0.1.42->langgraph) (3.11.1)\n",
      "Requirement already satisfied: anyio<5,>=3.5.0 in /opt/conda/lib/python3.12/site-packages (from openai<2.0.0,>=1.86.0->langchain-openai) (4.8.0)\n",
      "Requirement already satisfied: distro<2,>=1.7.0 in /opt/conda/lib/python3.12/site-packages (from openai<2.0.0,>=1.86.0->langchain-openai) (1.9.0)\n",
      "Requirement already satisfied: jiter<1,>=0.4.0 in /opt/conda/lib/python3.12/site-packages (from openai<2.0.0,>=1.86.0->langchain-openai) (0.10.0)\n",
      "Requirement already satisfied: sniffio in /opt/conda/lib/python3.12/site-packages (from openai<2.0.0,>=1.86.0->langchain-openai) (1.3.1)\n",
      "Requirement already satisfied: tqdm>4 in /opt/conda/lib/python3.12/site-packages (from openai<2.0.0,>=1.86.0->langchain-openai) (4.67.1)\n",
      "Requirement already satisfied: annotated-types>=0.6.0 in /opt/conda/lib/python3.12/site-packages (from pydantic>=2.7.4->langgraph) (0.7.0)\n",
      "Requirement already satisfied: pydantic-core==2.27.2 in /opt/conda/lib/python3.12/site-packages (from pydantic>=2.7.4->langgraph) (2.27.2)\n",
      "Requirement already satisfied: regex>=2022.1.18 in /opt/conda/lib/python3.12/site-packages (from tiktoken<1,>=0.7->langchain-openai) (2024.11.6)\n",
      "Requirement already satisfied: requests>=2.26.0 in /opt/conda/lib/python3.12/site-packages (from tiktoken<1,>=0.7->langchain-openai) (2.32.4)\n",
      "Requirement already satisfied: idna>=2.8 in /opt/conda/lib/python3.12/site-packages (from anyio<5,>=3.5.0->openai<2.0.0,>=1.86.0->langchain-openai) (3.10)\n",
      "Requirement already satisfied: certifi in /opt/conda/lib/python3.12/site-packages (from httpx>=0.25.2->langgraph-sdk<0.2.0,>=0.1.42->langgraph) (2024.12.14)\n",
      "Requirement already satisfied: httpcore==1.* in /opt/conda/lib/python3.12/site-packages (from httpx>=0.25.2->langgraph-sdk<0.2.0,>=0.1.42->langgraph) (1.0.7)\n",
      "Requirement already satisfied: h11<0.15,>=0.13 in /opt/conda/lib/python3.12/site-packages (from httpcore==1.*->httpx>=0.25.2->langgraph-sdk<0.2.0,>=0.1.42->langgraph) (0.14.0)\n",
      "Requirement already satisfied: jsonpointer>=1.9 in /opt/conda/lib/python3.12/site-packages (from jsonpatch<2.0,>=1.33->langchain-core>=0.1->langgraph) (3.0.0)\n",
      "Requirement already satisfied: requests-toolbelt<2.0.0,>=1.0.0 in /opt/conda/lib/python3.12/site-packages (from langsmith>=0.3.45->langchain-core>=0.1->langgraph) (1.0.0)\n",
      "Requirement already satisfied: zstandard<0.24.0,>=0.23.0 in /opt/conda/lib/python3.12/site-packages (from langsmith>=0.3.45->langchain-core>=0.1->langgraph) (0.23.0)\n",
      "Requirement already satisfied: charset_normalizer<4,>=2 in /opt/conda/lib/python3.12/site-packages (from requests>=2.26.0->tiktoken<1,>=0.7->langchain-openai) (3.4.1)\n",
      "Requirement already satisfied: urllib3<3,>=1.21.1 in /opt/conda/lib/python3.12/site-packages (from requests>=2.26.0->tiktoken<1,>=0.7->langchain-openai) (2.3.0)\n",
      "Downloading langchain_openai-0.3.28-py3-none-any.whl (70 kB)\n",
      "Using cached openai-1.97.1-py3-none-any.whl (764 kB)\n",
      "Installing collected packages: openai, langchain-openai\n",
      "  Attempting uninstall: openai\n",
      "    Found existing installation: openai 1.68.2\n",
      "    Uninstalling openai-1.68.2:\n",
      "      Successfully uninstalled openai-1.68.2\n",
      "  Attempting uninstall: langchain-openai\n",
      "    Found existing installation: langchain-openai 0.3.10\n",
      "    Uninstalling langchain-openai-0.3.10:\n",
      "      Successfully uninstalled langchain-openai-0.3.10\n",
      "Successfully installed langchain-openai-0.3.28 openai-1.97.1\n"
     ]
    }
   ],
   "source": [
    "!pip install -U langgraph langchain-openai"
   ]
  },
  {
   "cell_type": "code",
   "execution_count": 2,
   "metadata": {},
   "outputs": [],
   "source": [
    "%%capture\n",
    "!pip install langgraph==0.3.34 langchain-openai==0.3.14 langchainhub==0.1.21 langchain==0.3.24 pygraphviz==1.14 langchain-community==0.3.23"
   ]
  },
  {
   "cell_type": "markdown",
   "metadata": {},
   "source": [
    "### Understanding Tools in ReAct\n",
    "\n",
    "Tools are the \"acting\" part of ReAct. They give the agent capabilities beyond just generating text. Let's build two essential tools:\n",
    "\n",
    "#### 1. Web Search Tool\n",
    "### Tavily Search API Key Setup\n",
    "\n",
    "We'll use Tavily search as our external research tool. You can get an API key at https://app.tavily.com/sign-in   \n",
    "\n",
    "\n",
    "**Disclaimer:** Signing up for Tavily provides you with free credits, more than enough for this project's needs. If you require additional credits for further use, please add them at your own discretion.\n",
    "\n",
    "![image.png](https://cf-courses-data.s3.us.cloud-object-storage.appdomain.cloud/UjJx1-0vss4_3lwsUF8n0w/image.png)\n",
    "\n",
    "You need to copy the key from Tavily's API website and paste the key on the line ```os.environ[\"TAVILY_API_KEY\"] = \"YOUR_KEY_HERE\"```\n"
   ]
  },
  {
   "cell_type": "code",
   "execution_count": 3,
   "metadata": {},
   "outputs": [],
   "source": [
    "import warnings \n",
    "warnings.filterwarnings('ignore')\n",
    "\n",
    "from langchain_community.tools.tavily_search import TavilySearchResults\n",
    "from langchain.tools import tool\n",
    "import os\n",
    "import json\n",
    "\n",
    "TAVILY_API_KEY= \"tvly-dev-........\"\n",
    "os.environ[\"TAVILY_API_KEY\"] = TAVILY_API_KEY\n",
    "\n",
    "# Initialize the Tavily search tool\n",
    "search = TavilySearchResults()\n",
    "\n",
    "@tool\n",
    "def search_tool(query: str):\n",
    "    \"\"\"\n",
    "    Search the web for information using Tavily API.\n",
    "\n",
    "    :param query: The search query string\n",
    "    :return: Search results related to the query\n",
    "    \"\"\"\n",
    "    return search.invoke(query)"
   ]
  },
  {
   "cell_type": "markdown",
   "metadata": {},
   "source": [
    "### Theory behind Web Search Tools:\n",
    "- Enable real-time information retrieval\n",
    "- Overcome the knowledge cutoff limitation of language models\n",
    "- Return structured data that the agent can process and reason about\n",
    "\n",
    "### Testing the Search Tool\n"
   ]
  },
  {
   "cell_type": "code",
   "execution_count": 4,
   "metadata": {},
   "outputs": [
    {
     "name": "stderr",
     "output_type": "stream",
     "text": [
      "/tmp/ipykernel_1140/2774954940.py:1: LangChainDeprecationWarning: The method `BaseTool.__call__` was deprecated in langchain-core 0.1.47 and will be removed in 1.0. Use :meth:`~invoke` instead.\n",
      "  search_tool(\"What's the weather like in Tokyo today?\")\n"
     ]
    },
    {
     "data": {
      "text/plain": [
       "[{'title': 'Weather for Tokyo, Japan - Time and Date',\n",
       "  'url': 'https://www.timeanddate.com/weather/japan/tokyo',\n",
       "  'content': 'timeanddate.com\\nFlag for Japan\\n\\n# Weather in Tokyo, Japan\\n\\nPartly sunny.\\n\\nFeels Like: 99 °F  \\nForecast: 97 / 78 °F  \\nWind: 17 mph ↑ from South\\n\\n|  |  |\\n| --- | --- |\\n| Location: | Tokyo Heliport |\\n| Current Time: | Jul 27, 2025 at 3:28:57 pm |\\n| Latest Report: | Jul 27, 2025 at 3:00 pm |\\n| Visibility: | N/A |\\n| Pressure: | 29.74 \"Hg |\\n| Humidity: | 79% |\\n| Dew Point: | 79 °F |\\n\\nLocation of Tokyo\\nLocation\\n\\n## Upcoming 5 hours [...] | Amount of Snow | 0.00\" | 0.00\" | 0.00\" | 0.00\" | 0.00\" | 0.00\" | 0.00\" |\\n|  |  |  |  |  |  |  |  |\\n| --- | --- | --- | --- | --- | --- | --- | --- |\\n| \\\\ Updated Sunday, July 27, 2025 10:02:29 am Tokyo time - Weather by CustomWeather, © 2025 | | | | | | | | [...] | Sun | Mon | Tue | Wed | Thu | Fri | Sat |\\n| --- | --- | --- | --- | --- | --- | --- |\\n| 27  96 / 80 °F | 28  97 / 78 °F | 29  98 / 77 °F | 30  97 / 76 °F | 31  94 / 73 °F | 1  95 / 74 °F | 2  96 / 75 °F |\\n| 3  94 / 76 °F | 4  89 / 79 °F | 5  89 / 79 °F | 6  89 / 78 °F | 7  92 / 79 °F | 8  98 / 78 °F | 9  102 / 79 °F |\\n| 10  102 / 79 °F | 11 | 12 | 13 | 14 | 15 | 16 |\\n\\n96 / 80 °F\\n\\n97 / 78 °F\\n\\n98 / 77 °F\\n\\n97 / 76 °F\\n\\n94 / 73 °F\\n\\n95 / 74 °F\\n\\n96 / 75 °F\\n\\n94 / 76 °F\\n\\n89 / 79 °F\\n\\n89 / 79 °F',\n",
       "  'score': 0.95045245},\n",
       " {'title': 'Tokyo weather in July 2025 - Weather25.com',\n",
       "  'url': 'https://www.weather25.com/asia/japan/tokyo?page=month&month=July',\n",
       "  'content': '| 27 Sunny 33° /28° | 28 Sunny 35° /28° | 29 Sunny 36° /27° | 30 Sunny 34° /26° | 31 Partly cloudy 32° /24° |  |  | [...] weather25.com\\nSearch\\nweather in Japan\\nRemove from your favorite locations\\nAdd to my locations\\nShare\\nweather in Japan\\n\\n# Tokyo weather in July 2025\\n\\nClear\\nClear\\nClear\\nSunny\\nPartly cloudy\\nClear\\nClear\\nSunny\\nPatchy rain possible\\nLight rain shower\\nPatchy rain possible\\nPartly cloudy\\nPartly cloudy\\nPatchy rain possible\\n\\n## The average weather in Tokyo in July\\n\\nThe weather in Tokyo in July is very hot. The average temperatures are between 24°C and 29°C, drinking water regularly is advisable. [...] Light rain\\nPatchy rain possible\\nCloudy\\nHeavy rain\\nLight rain shower\\nModerate rain\\nPartly cloudy\\nPartly cloudy\\nCloudy\\nPartly cloudy\\nPatchy rain possible\\nLight rain\\nLight rain\\nLight rain shower\\nLight rain shower\\nLight rain shower\\nLight rain shower\\nPatchy rain possible\\nPartly cloudy\\nLight rain shower\\nPartly cloudy\\nPartly cloudy\\nLight rain shower\\nOvercast\\nPatchy rain possible\\nPartly cloudy\\nSunny\\nSunny\\nSunny\\nSunny\\nPartly cloudy\\n\\n## Explore the weather in Tokyo in other months',\n",
       "  'score': 0.926683},\n",
       " {'title': 'Tokyo, Japan Weather Conditions | Weather Underground',\n",
       "  'url': 'https://www.wunderground.com/weather/jp/tokyo',\n",
       "  'content': \"# Tokyo, Tokyo Prefecture, Japan Weather Conditionsstar\\\\_ratehome\\n\\nicon\\n\\nThank you for reporting this station. We will review the data in question.\\n\\nYou are about to report this weather station for bad data. Please select the information that is incorrect.\\n\\nSee more\\n\\n(Reset Map)\\n\\nNo PWS\\n\\nReset Map, or Add PWS.\\n\\naccess\\\\_time 3:21 PM JST on July 27, 2025 (GMT +9) | Updated 56 seconds ago\\n\\nicon\\n\\nPartly Cloudy\\n\\nGusts 7 °mph\\n\\nTomorrow's temperature is forecast to be WARMER than today. [...] icon\\nicon\\nicon\\nicon\\nicon\\nicon\\nicon\\nicon\\nAccess Logo\\n\\nWe recognize our responsibility to use data and technology for good. We may use or share your data with our data vendors. Take control of your data.\\n\\nThe Weather Company Logo\\nThe Weather Channel Logo\\nWeather Underground Logo\\nStorm Radar Logo\\n\\n© The Weather Company, LLC 2025\",\n",
       "  'score': 0.902687},\n",
       " {'title': 'Weather in Tokyo in July 2025 - Detailed Forecast',\n",
       "  'url': 'https://www.easeweather.com/asia/japan/tokyo/july',\n",
       "  'content': '| 26 Jul. | Patchy rain possible Patchy rain possible | 32° /25° | 7.1 mm | 7 |  |\\n| 27 Jul. | Sunny Sunny | 33° /28° | 0 mm | 2.6 |  |\\n| 28 Jul. | Sunny Sunny | 34° /27° | 0 mm | 2.6 |  |\\n| 29 Jul. | Sunny Sunny | 36° /27° | 0 mm | 2.6 |  |\\n| 30 Jul. | Sunny Sunny | 34° /27° | 0 mm | 2.8 |  |\\n| 31 Jul. | Sunny Sunny | 33° /25° | 0 mm | 7 |  |\\n| Next | | | | | | [...] easeweather.com\\nTokyo weather\\nJapan weather\\n\\n# Weather in Tokyo for July 2025\\n\\n### Temperatures\\n\\nUntil now, July 2025 in Tokyo has been nearly identical to the historical average, with a temperature of 30.6 °C (showing only a slight deviation of 0.5 °C).\\n\\nExpect cooler weather in the next days in Tokyo with the forecast suggesting a temperature of 32.5 °C, lower than the historical average. [...] Moderate or heavy rain shower\\nModerate or heavy rain shower\\nCloudy\\nPatchy rain possible\\nModerate or heavy rain shower\\nPatchy rain possible\\nPartly cloudy\\nPartly cloudy\\nCloudy\\nCloudy\\nPatchy rain possible\\nOvercast\\nModerate or heavy rain shower\\nLight rain shower\\nLight rain shower\\nPatchy rain possible\\nSunny\\nCloudy\\nPartly cloudy\\nPartly cloudy\\nPatchy rain possible\\nPartly cloudy\\nSunny\\nPatchy rain possible\\nSunny\\nPatchy rain possible\\nSunny\\nSunny\\nSunny\\nSunny\\nSunny',\n",
       "  'score': 0.8727061},\n",
       " {'title': 'Japan Weather in July 2025: Full of Festivals, Travel Tips',\n",
       "  'url': 'https://www.japanhighlights.com/japan/weather-in-july',\n",
       "  'content': \"The temperature gets up to 86Â°F (30Â°C) on average, which seems hotter with the humidity. So, you're advised to do any outdoor activities in the early morning or late afternoon.\\n\\nIn Tokyo, Kyoto, and Osaka, abundant indoor activities in air-conditioned buildings offer a cool and dry escape, especially for families with teenagers.\\n\\nSource fromÂ Weather Spark [...] For young animation fans, the Ghibli Museum offers a magical journey into the world of Studio Ghibli. You could explore themed exhibits and enjoy special ice cream inspired by the films.\\n\\nFor a cultural touch, visit Asakusa in the evening when the crowds thin out and lanterns light the streets.\\n\\nDon't miss the Shinjuku Eisa Festivalï½\\x9cJuly 27, 2025  \\nA one-day Okinawan dance festival in central Shinjuku, with drums, parades, and colorful costumes. Free to watch and family-friendly. [...] Japan Highlights logo\\nJapan Weather in July\\n\\n# Japan Weather in July\\n\\nJuly is in the middle of summer (June to August) in Japan. The average temperature throughout Japan is 73â\\x80\\x9384Â°F (23â\\x80\\x9329Â°C), accompanied by a moderate average rainfall of 7 in (171 mm) and about 11 rainy days.\\n\\nRainfall eases somewhat after the first half of July so you could visit Japan in late July for a drier experience.\",\n",
       "  'score': 0.77199864}]"
      ]
     },
     "execution_count": 4,
     "metadata": {},
     "output_type": "execute_result"
    }
   ],
   "source": [
    "search_tool(\"What's the weather like in Tokyo today?\")"
   ]
  },
  {
   "cell_type": "markdown",
   "metadata": {},
   "source": [
    "This test demonstrates how the agent can access current information that wasn't available during training.\n",
    "\n",
    "#### 2. Clothing Recommendation Tool\n"
   ]
  },
  {
   "cell_type": "code",
   "execution_count": 5,
   "metadata": {},
   "outputs": [],
   "source": [
    "@tool\n",
    "def recommend_clothing(weather: str) -> str:\n",
    "    \"\"\"\n",
    "    Returns a clothing recommendation based on the provided weather description.\n",
    "\n",
    "    This function examines the input string for specific keywords or temperature indicators \n",
    "    (e.g., \"snow\", \"freezing\", \"rain\", \"85°F\") to suggest appropriate attire. It handles \n",
    "    common weather conditions like snow, rain, heat, and cold by providing simple and practical \n",
    "    clothing advice.\n",
    "\n",
    "    :param weather: A brief description of the weather (e.g., \"Overcast, 64.9°F\")\n",
    "    :return: A string with clothing recommendations suitable for the weather\n",
    "    \"\"\"\n",
    "    weather = weather.lower()\n",
    "    if \"snow\" in weather or \"freezing\" in weather:\n",
    "        return \"Wear a heavy coat, gloves, and boots.\"\n",
    "    elif \"rain\" in weather or \"wet\" in weather:\n",
    "        return \"Bring a raincoat and waterproof shoes.\"\n",
    "    elif \"hot\" in weather or \"85\" in weather:\n",
    "        return \"T-shirt, shorts, and sunscreen recommended.\"\n",
    "    elif \"cold\" in weather or \"50\" in weather:\n",
    "        return \"Wear a warm jacket or sweater.\"\n",
    "    else:\n",
    "        return \"A light jacket should be fine.\""
   ]
  },
  {
   "cell_type": "markdown",
   "metadata": {},
   "source": [
    "**Why this Tool Matters:**\n",
    "- Demonstrates domain-specific reasoning\n",
    "- Shows how tools can process and interpret data from other tools\n",
    "- Illustrates the composability of ReAct systems\n",
    "\n",
    "#### Creating the Tool Registry\n"
   ]
  },
  {
   "cell_type": "code",
   "execution_count": 6,
   "metadata": {},
   "outputs": [],
   "source": [
    "tools=[search_tool,recommend_clothing]\n",
    "\n",
    "tools_by_name={ tool.name:tool for tool in tools}"
   ]
  },
  {
   "cell_type": "markdown",
   "metadata": {},
   "source": [
    "This registry allows the agent to dynamically select and invoke the appropriate tool based on the task at hand.\n",
    "\n",
    "## Setting Up the Language Model\n",
    "\n",
    "### Initializing the AI Model\n"
   ]
  },
  {
   "cell_type": "code",
   "execution_count": 7,
   "metadata": {},
   "outputs": [],
   "source": [
    "from langchain_openai import ChatOpenAI\n",
    "from langchain_core.tools import tool\n",
    "\n",
    "model = ChatOpenAI(model=\"gpt-4o-mini\")"
   ]
  },
  {
   "cell_type": "markdown",
   "metadata": {},
   "source": [
    "We're using GPT-4o-mini as our reasoning engine. This model will:\n",
    "- Analyze user queries\n",
    "- Decide which tools to use\n",
    "- Process tool results\n",
    "- Generate final responses\n",
    "\n",
    "### Creating the System Prompt\n"
   ]
  },
  {
   "cell_type": "code",
   "execution_count": 8,
   "metadata": {},
   "outputs": [],
   "source": [
    "from langchain_core.prompts import ChatPromptTemplate, MessagesPlaceholder\n",
    "from langchain_core.messages import BaseMessage, HumanMessage, AIMessage, ToolMessage,SystemMessage\n",
    "\n",
    "chat_prompt = ChatPromptTemplate.from_messages([\n",
    "    (\"system\", \"\"\"\n",
    "You are a helpful AI assistant that thinks step-by-step and uses tools when needed.\n",
    "\n",
    "When responding to queries:\n",
    "1. First, think about what information you need\n",
    "2. Use available tools if you need current data or specific capabilities  \n",
    "3. Provide clear, helpful responses based on your reasoning and any tool results\n",
    "\n",
    "Always explain your thinking process to help users understand your approach.\n",
    "\"\"\"),\n",
    "    MessagesPlaceholder(variable_name=\"scratch_pad\")\n",
    "])"
   ]
  },
  {
   "cell_type": "markdown",
   "metadata": {},
   "source": [
    "**The System Prompt's Role:**\n",
    "- Defines the agent's behavior and personality\n",
    "- Establishes the reasoning pattern (think → act → observe)\n",
    "- Encourages transparency in the decision-making process\n",
    "\n",
    "### Binding Tools to the Model\n"
   ]
  },
  {
   "cell_type": "code",
   "execution_count": 9,
   "metadata": {},
   "outputs": [],
   "source": [
    "model_react=chat_prompt|model.bind_tools(tools)"
   ]
  },
  {
   "cell_type": "markdown",
   "metadata": {},
   "source": [
    "This creates a model that can:\n",
    "- Understand when to use tools\n",
    "- Generate properly formatted tool calls\n",
    "- Process tool results in context\n",
    "\n",
    "## Understanding Agent State\n",
    "\n",
    "### What is Agent State?\n",
    "\n",
    "In ReAct, state management is crucial, as the agent must maintain context across multiple reasoning and acting steps.\n"
   ]
  },
  {
   "cell_type": "code",
   "execution_count": 10,
   "metadata": {},
   "outputs": [],
   "source": [
    "from typing import (Annotated,Sequence,TypedDict)\n",
    "from langchain_core.messages import BaseMessage\n",
    "from langgraph.graph.message import add_messages\n",
    "\n",
    "class AgentState(TypedDict):\n",
    "    \"\"\"The state of the agent.\"\"\"\n",
    "\n",
    "    # add_messages is a reducer\n",
    "    # See https://langchain-ai.github.io/langgraph/concepts/low_level/#reducers\n",
    "    messages: Annotated[Sequence[BaseMessage], add_messages]"
   ]
  },
  {
   "cell_type": "markdown",
   "metadata": {},
   "source": [
    "**Key Concepts:**\n",
    "- **State**: Contains the conversation history and context.\n",
    "- **Reducer**: `add_messages` automatically handles adding new messages to the conversation.\n",
    "- **Type Safety**: TypedDict ensures our state structure is well-defined.\n",
    "\n",
    "### Demonstrating State Management\n"
   ]
  },
  {
   "cell_type": "code",
   "execution_count": 11,
   "metadata": {},
   "outputs": [
    {
     "name": "stdout",
     "output_type": "stream",
     "text": [
      "After greeting: [HumanMessage(content='Hi', additional_kwargs={}, response_metadata={}, id='e3578abe-7813-4923-b6cd-964f4a8bec04')]\n",
      "After question: {'messages': [HumanMessage(content='Hi', additional_kwargs={}, response_metadata={}, id='e3578abe-7813-4923-b6cd-964f4a8bec04'), HumanMessage(content='Weather in NYC?', additional_kwargs={}, response_metadata={}, id='d36cb647-cca0-4f65-b60a-5c6b0c2d8b7a')]}\n"
     ]
    }
   ],
   "source": [
    "# Example conversation flow:\n",
    "state: AgentState = {\"messages\": []}\n",
    "\n",
    "# append a message using the reducer properly\n",
    "state[\"messages\"] = add_messages(state[\"messages\"], [HumanMessage(content=\"Hi\")])\n",
    "print(\"After greeting:\", state[\"messages\"])\n",
    "\n",
    "# add another message (e.g. a question)\n",
    "state[\"messages\"] = add_messages(state[\"messages\"], [HumanMessage(content=\"Weather in NYC?\")])\n",
    "print(\"After question:\", state)"
   ]
  },
  {
   "cell_type": "markdown",
   "metadata": {},
   "source": [
    "This demonstrates how the state accumulates context over the conversation.\n"
   ]
  },
  {
   "cell_type": "markdown",
   "metadata": {},
   "source": [
    "## Manual ReAct Execution (Understanding the Flow)\n",
    "\n",
    "Before building the automated graph, let's manually step through a ReAct cycle to understand what happens:\n",
    "\n",
    "### Step 1: Initial Query Processing\n"
   ]
  },
  {
   "cell_type": "code",
   "execution_count": 12,
   "metadata": {},
   "outputs": [],
   "source": [
    "dummy_state: AgentState = {\n",
    "    \"messages\": [HumanMessage( \"What's the weather like in Zurich, and what should I wear based on the temperature?\")]}\n",
    "\n",
    "response = model_react.invoke({\"scratch_pad\":dummy_state[\"messages\"]})\n",
    "\n",
    "dummy_state[\"messages\"]=add_messages(dummy_state[\"messages\"],[response])"
   ]
  },
  {
   "cell_type": "markdown",
   "metadata": {},
   "source": [
    "**What Happens Here:**\n",
    "1. The user asks a complex question requiring current data.\n",
    "2. The model analyzes the query and realizes it needs to search for weather information.\n",
    "3. The model generates a tool call for the search.\n"
   ]
  },
  {
   "cell_type": "markdown",
   "metadata": {},
   "source": [
    "### Step 2: Tool Execution\n"
   ]
  },
  {
   "cell_type": "code",
   "execution_count": 13,
   "metadata": {},
   "outputs": [
    {
     "name": "stdout",
     "output_type": "stream",
     "text": [
      "Tool call: {'name': 'search_tool', 'args': {'query': 'current weather Zurich'}, 'id': 'call_UPObMlBj8PHDuEJPVOysz1Hl', 'type': 'tool_call'}\n",
      "Tool result preview: Weather for Zürich, Zurich, Switzerland - Time and Date\n"
     ]
    }
   ],
   "source": [
    "tool_call = response.tool_calls[-1]\n",
    "print(\"Tool call:\", tool_call)\n",
    "\n",
    "tool_result = tools_by_name[tool_call[\"name\"]].invoke(tool_call[\"args\"])\n",
    "print(\"Tool result preview:\", tool_result[0]['title'])\n",
    "\n",
    "tool_message = ToolMessage(\n",
    "    content=json.dumps(tool_result),\n",
    "    name=tool_call[\"name\"],\n",
    "    tool_call_id=tool_call[\"id\"]\n",
    ")\n",
    "dummy_state[\"messages\"] = add_messages(dummy_state[\"messages\"], [tool_message])"
   ]
  },
  {
   "cell_type": "markdown",
   "metadata": {},
   "source": [
    "**What Happens Here:**\n",
    "1. Extract the tool call from the model's response.\n",
    "2. Execute the tool using the specified arguments.\n",
    "3. Create a ToolMessage containing the results.\n",
    "4. Add the tool result to the conversation state.\n"
   ]
  },
  {
   "cell_type": "markdown",
   "metadata": {},
   "source": [
    "### Step 3: Processing Results and Next Action\n"
   ]
  },
  {
   "cell_type": "code",
   "execution_count": 14,
   "metadata": {},
   "outputs": [],
   "source": [
    "response = model_react.invoke({\"scratch_pad\": dummy_state[\"messages\"]})\n",
    "dummy_state['messages'] = add_messages(dummy_state['messages'], [response])\n",
    "\n",
    "# check if the model wants to use another tool\n",
    "if response.tool_calls:\n",
    "    tool_call = response.tool_calls[0]\n",
    "    tool_result = tools_by_name[tool_call[\"name\"]].invoke(tool_call[\"args\"])\n",
    "    tool_message = ToolMessage(\n",
    "        content=json.dumps(tool_result),\n",
    "        name=tool_call[\"name\"],\n",
    "        tool_call_id=tool_call[\"id\"]\n",
    "    )\n",
    "    dummy_state['messages'] = add_messages(dummy_state['messages'], [tool_message])"
   ]
  },
  {
   "cell_type": "markdown",
   "metadata": {},
   "source": [
    "**What Happens Here:**\n",
    "1. The model processes the search results.\n",
    "2. It realizes it needs to use the clothing recommendation tool.\n",
    "3. It extracts weather information and calls the clothing tool.\n",
    "4. It receives clothing recommendations based on the weather data.\n"
   ]
  },
  {
   "cell_type": "markdown",
   "metadata": {},
   "source": [
    "### Step 4: Final Response Generation\n"
   ]
  },
  {
   "cell_type": "code",
   "execution_count": 15,
   "metadata": {},
   "outputs": [
    {
     "name": "stdout",
     "output_type": "stream",
     "text": [
      "Final response generated: True\n",
      "More tools needed: False\n"
     ]
    }
   ],
   "source": [
    "response = model_react.invoke({\"scratch_pad\": dummy_state[\"messages\"]})\n",
    "print(\"Final response generated:\", response.content is not None)\n",
    "print(\"More tools needed:\", bool(response.tool_calls))"
   ]
  },
  {
   "cell_type": "markdown",
   "metadata": {},
   "source": [
    "**What Happens Here:**\n",
    "1. The model has all necessary information.\n",
    "2. It synthesizes weather data and clothing recommendations.\n",
    "3. It generates a comprehensive response to the user.\n",
    "4. No more tool calls needed—the reasoning cycle is complete.\n"
   ]
  },
  {
   "cell_type": "markdown",
   "metadata": {},
   "source": [
    "## Automating ReAct with Graphs\n",
    "\n",
    "### Why Use Graphs?\n",
    "\n",
    "Manual ReAct execution is educational but impractical for real applications. LangGraph automates this process with a state machine that handles the reasoning loop automatically.\n",
    "\n",
    "### Building the Core Functions\n",
    "\n",
    "#### Tool Execution Node\n"
   ]
  },
  {
   "cell_type": "code",
   "execution_count": 16,
   "metadata": {},
   "outputs": [],
   "source": [
    "def tool_node(state: AgentState):\n",
    "    \"\"\"Execute all tool calls from the last message in the state.\"\"\"\n",
    "    outputs = []\n",
    "    for tool_call in state[\"messages\"][-1].tool_calls:\n",
    "        tool_result = tools_by_name[tool_call[\"name\"]].invoke(tool_call[\"args\"])\n",
    "        outputs.append(\n",
    "            ToolMessage(\n",
    "                content=json.dumps(tool_result),\n",
    "                name=tool_call[\"name\"],\n",
    "                tool_call_id=tool_call[\"id\"],\n",
    "            )\n",
    "        )\n",
    "    return {\"messages\": outputs}"
   ]
  },
  {
   "cell_type": "markdown",
   "metadata": {},
   "source": [
    "**Function Purpose:**\n",
    "- Automatically execute all tool calls from the model\n",
    "- Handle multiple simultaneous tool calls\n",
    "- Return properly formatted tool messages\n"
   ]
  },
  {
   "cell_type": "markdown",
   "metadata": {},
   "source": [
    "#### Model Invocation Node\n"
   ]
  },
  {
   "cell_type": "code",
   "execution_count": 17,
   "metadata": {},
   "outputs": [],
   "source": [
    "def call_model(state: AgentState):\n",
    "    \"\"\"Invoke the model with the current conversation state.\"\"\"\n",
    "    response = model_react.invoke({\"scratch_pad\": state[\"messages\"]})\n",
    "    return {\"messages\": [response]}"
   ]
  },
  {
   "cell_type": "markdown",
   "metadata": {},
   "source": [
    "**Function Purpose:**\n",
    "- Call the ReAct-enabled model\n",
    "- Pass the full conversation context\n",
    "- Return the model's response (which may include tool calls)\n",
    "\n",
    "#### Decision Logic\n"
   ]
  },
  {
   "cell_type": "code",
   "execution_count": 18,
   "metadata": {},
   "outputs": [],
   "source": [
    "def should_continue(state: AgentState):\n",
    "    \"\"\"Determine whether to continue with tool use or end the conversation.\"\"\"\n",
    "    messages = state[\"messages\"]\n",
    "    last_message = messages[-1]\n",
    "    # If there is no function call, then we finish\n",
    "    if not last_message.tool_calls:\n",
    "        return \"end\"\n",
    "    # Otherwise if there is, we continue\n",
    "    else:\n",
    "        return \"continue\""
   ]
  },
  {
   "cell_type": "markdown",
   "metadata": {},
   "source": [
    "**Function Purpose:**\n",
    "- Implement the control flow logic\n",
    "- Decide whether the agent needs to use more tools\n",
    "- Route the conversation to either tool execution or completion\n",
    "\n",
    "### Constructing the State Graph\n"
   ]
  },
  {
   "cell_type": "code",
   "execution_count": 19,
   "metadata": {},
   "outputs": [],
   "source": [
    "from langgraph.graph import StateGraph, END\n",
    "\n",
    "# Define a new graph\n",
    "workflow = StateGraph(AgentState)\n",
    "\n",
    "# Define the two nodes we will cycle between\n",
    "workflow.add_node(\"agent\", call_model)\n",
    "workflow.add_node(\"tools\", tool_node)\n",
    "\n",
    "# Add edges between nodes\n",
    "workflow.add_edge(\"tools\", \"agent\")  # After tools, always go back to agent\n",
    "\n",
    "# Add conditional logic\n",
    "workflow.add_conditional_edges(\n",
    "    \"agent\",\n",
    "    should_continue,\n",
    "    {\n",
    "        \"continue\": \"tools\",  # If tools needed, go to tools node\n",
    "        \"end\": END,          # If done, end the conversation\n",
    "    },\n",
    ")\n",
    "\n",
    "# Set entry point\n",
    "workflow.set_entry_point(\"agent\")\n",
    "\n",
    "# Compile the graph\n",
    "graph = workflow.compile()"
   ]
  },
  {
   "cell_type": "markdown",
   "metadata": {},
   "source": [
    "**Graph Structure Explained:**\n",
    "1. **Agent Node**: Where reasoning happens and tool calls are generated.\n",
    "2. **Tools Node**: Where tool execution occurs.\n",
    "3. **Conditional Edge**: Determines whether to continue or finish.\n",
    "4. **Entry Point**: Conversation always starts with the agent reasoning.\n",
    "### Visualizing the Graph\n"
   ]
  },
  {
   "cell_type": "code",
   "execution_count": 20,
   "metadata": {},
   "outputs": [
    {
     "data": {
      "image/png": "[encoded data removed]",
      "text/plain": [
       "<IPython.core.display.Image object>"
      ]
     },
     "metadata": {},
     "output_type": "display_data"
    }
   ],
   "source": [
    "from IPython.display import Image, display\n",
    "\n",
    "try:\n",
    "    display(Image(graph.get_graph().draw_mermaid_png()))\n",
    "except Exception:\n",
    "    # This requires some extra dependencies and is optional\n",
    "    pass"
   ]
  },
  {
   "cell_type": "markdown",
   "metadata": {},
   "source": [
    "This visualization shows the flow: Agent → Decision → Tools → Agent → Decision → End\n"
   ]
  },
  {
   "cell_type": "markdown",
   "metadata": {},
   "source": [
    "## Running the Complete ReAct Agent\n",
    "\n",
    "### Final Execution\n"
   ]
  },
  {
   "cell_type": "code",
   "execution_count": 21,
   "metadata": {},
   "outputs": [
    {
     "name": "stdout",
     "output_type": "stream",
     "text": [
      "================================\u001b[1m Human Message \u001b[0m=================================\n",
      "\n",
      "What's the weather like in Zurich, and what should I wear based on the temperature?\n",
      "==================================\u001b[1m Ai Message \u001b[0m==================================\n",
      "Tool Calls:\n",
      "  search_tool (call_ppABivthcNjxOe7mG46v7aZD)\n",
      " Call ID: call_ppABivthcNjxOe7mG46v7aZD\n",
      "  Args:\n",
      "    query: current weather in Zurich\n",
      "=================================\u001b[1m Tool Message \u001b[0m=================================\n",
      "Name: search_tool\n",
      "\n",
      "[{\"title\": \"Zurich weather in July 2025 - Weather25.com\", \"url\": \"https://www.weather25.com/europe/switzerland/zurich?page=month&month=July\", \"content\": \"| 27 Light rain shower 19\\u00b0 /12\\u00b0 | 28 Light rain 15\\u00b0 /12\\u00b0 | 29 Patchy rain possible 21\\u00b0 /10\\u00b0 | 30 Patchy rain possible 23\\u00b0 /11\\u00b0 | 31 Patchy rain possible 23\\u00b0 /11\\u00b0 |  |  | [...] weather25.com\\nSearch\\nweather in Switzerland\\nRemove from your favorite locations\\nAdd to my locations\\nShare\\nweather in Switzerland\\n\\n# Zurich weather in July 2025\\n\\nLight rain shower\\nLight rain\\nPatchy rain possible\\nPatchy rain possible\\nPatchy rain possible\\nLight rain shower\\nLight rain shower\\nLight rain shower\\nMist\\nCloudy\\nLight rain shower\\nPatchy rain possible\\nLight rain shower\\nMist\\n\\n## The average weather in Zurich in July [...] The temperatures in Zurich in July are comfortable with low of 12\\u00b0C and and high up to 25\\u00b0C.\\n\\nYou can expect about 3 to 8 days of rain in Zurich during the month of July. It\\u2019s a good idea to bring along your umbrella so that you don\\u2019t get caught in poor weather.\\n\\nOur weather forecast can give you a great sense of what weather to expect in Zurich in July 2025.\", \"score\": 0.89567816}, {\"title\": \"Zurich weather in July 2025 | Switzerland: How hot?\", \"url\": \"https://www.weather2travel.com/switzerland/zurich/july/\", \"content\": \"weather2travel.com - travel deals for your holiday in the sun\\nClick to search\\n\\n# Zurich weather in July 2025\\n\\nExpect  daytime maximum temperatures of 23\\u00b0C in Zurich, Switzerland in July based on long-term weather averages. There are 7 hours of sunshine per day on average with 16 days with some rainfall and typically 127 mm of rainfall in the month. [...] 23\\u00b0C maximum daytime temperature in July in Zurich\\n7 hours of sunshine per day (45% of daylight hours) in July in Zurich\\n16 days with some rainfall in July in Zurich\\n13\\u00b0C minimum night-time temperature in July in Zurich\\n15 hours of daylight per day in July in Zurich\\nNo heat & humidity in July in Zurich\\n127 mm monthly rainfall in July in Zurich\\nUV (maximum) index 8 (Very High) in July in Zurich\\n\\n### More about Zurich [...] The July weather guide for Switzerland (Zurich) shows long term weather averages processed from data supplied by CRU (University of East Anglia), the Met Office & the Netherlands Meteorological Institute. Find out more about our data sources.\\n\\nMetric (\\u00b0C / mm)  |  Imperial (\\u00b0F / inches)\\n\\nBack to top\\n\\n### More about Switzerland\", \"score\": 0.8351749}, {\"title\": \"Monthly Weather Forecast for Z\\u00fcrich, Z\\u00fcrich, Switzerland\", \"url\": \"https://www.weather.com/weather/monthly/l/Pfaffhausen+Switzerland+SZXX0553:1:SZ\", \"content\": \"A steady rain this evening. Showers continuing overnight. Low 53F. Winds WSW at 5 to 10 mph. Chance of rain 90%. Rainfall around a half an inch. Locally heavier rainfall possible.\\n\\n## We Love Our Critters\\n\\n## Trending Now\\n\\n## Home, Garage & Garden\\n\\n| Jul 27 | High | Low | Precip |\\n| --- | --- | --- | --- |\\n| Averages | 86\\u00b0F | 46\\u00b0 | -- |\\n| Records | -- | -- | -- | [...] ## Recent Locations\\n\\nMenu\\n\\n## Weather Forecasts\\n\\n## Radar & Maps\\n\\n## News & Media\\n\\n## Products & Account\\n\\n## Lifestyle\\n\\n### Specialty Forecasts\\n\\n# Monthly Weather-Z\\u00fcrich, Z\\u00fcrich, Switzerland\\n\\n## Day\\n\\nCloudy skies with showers and a possible thunderstorm this afternoon. Heavy and torrential downpours at times. High 66F. Winds WSW at 5 to 10 mph. Chance of rain 80%.\\n\\n## Night [...] | Reported Conditions |\\n| --- |\\n| Yesterday | 70\\u00b0 | 57\\u00b0 | 0.40 in |\\n| Last 7 Days | 84\\u00b0 | 57\\u00b0 | 1.58 |\\n| Month to Date | 94\\u00b0 | 50\\u00b0 | 3.01 |\\n\\n| Historical Monthly Avg |\\n| --- |\\n| July | 86\\u00b0 | 46\\u00b0 | 4.70 |\\n| August | 84\\u00b0 | 46\\u00b0 | 5.30 |\\n| September | 77\\u00b0 | 41\\u00b0 | 3.70 |\\n\\n## Sun & Moon\\n\\n## Stay Safe\\n\\n## Travel Far, Travel Often\\n\\nThe Weather Company\\nThe Weather Channel\\nWeather Underground\\nStorm Radar\\nGeorgia Org\\nLink to eSSENTIAL Accessibility assistive technology\", \"score\": 0.7668008}, {\"title\": \"Weather Forecast and Conditions for Z\\u00fcrich, Z\\u00fcrich, Switzerland\", \"url\": \"https://weather.com/weather/today/l/124b427bc58195f6a13ef72cccc57b090f11e58ba9bc61463b7d46407b690700\", \"content\": \"# 10 Day Weather-Z\\u00fcrich, Z\\u00fcrich, Switzerland\\n\\n## Today\\n\\n## Day\\n\\nCloudy with showers likely during the afternoon, and possibly a thunderstorm. Heavy and torrential downpours at times. High 66F. Winds WSW at 5 to 10 mph. Chance of rain 80%.\\n\\n## Night\\n\\nRain early...then remaining cloudy with showers overnight. Low around 55F. Winds WSW at 5 to 10 mph. Chance of rain 90%. Rainfall around a quarter of an inch. Locally heavier rainfall possible.\\n\\n## Mon 28\\n\\n## Day [...] Rain showers in the morning will evolve into a more steady rain in the afternoon. High 58F. Winds W at 5 to 10 mph. Chance of rain 90%. Rainfall near a half an inch. Locally heavier rainfall possible.\\n\\n## Night\\n\\nRain showers in the evening becoming more intermittent overnight. Low 53F. Winds light and variable. Chance of rain 50%.\\n\\n## Tue 29\\n\\n## Day\\n\\nCloudy early with partial sunshine expected late. High 67F. Winds light and variable.\\n\\n## Night [...] ## Recent Locations\\n\\nMenu\\n\\n## Weather Forecasts\\n\\n## Radar & Maps\\n\\n## News & Media\\n\\n## Products & Account\\n\\n## Lifestyle\\n\\n### Specialty Forecasts\\n\\n# Z\\u00fcrich, Z\\u00fcrich, Switzerland\\n\\n## Severe Warning for Rain\\n\\n## Weather Today in Z\\u00fcrich, Z\\u00fcrich, Switzerland\\n\\n5:58 am\\n\\n9:06 pm\\n\\n## Radar\\n\\n## Rain\\n\\nThunderstorms possible after 1 PM.\\n\\n# Hourly Weather-Z\\u00fcrich, Z\\u00fcrich, Switzerland\\n\\n## Now\\n\\nCloudy\\n\\n## 10 am\\n\\nCloudy\\n\\n## 11 am\\n\\nCloudy\\n\\n## 12 pm\\n\\nCloudy\\n\\nChart small gif\\n\\n## Don't Miss\\n\\n## Trending Now\", \"score\": 0.5749443}, {\"title\": \"10-Day Weather Forecast for Langstrasse, Z\\u00fcrich, Switzerland\", \"url\": \"https://weather.com/weather/tenday/l/Langstrasse+Z%C3%BCrich+Switzerland?canonicalCityId=073a99a62e75812ec385c6da3cc46f95\", \"content\": \"A steady rain this evening. Showers continuing overnight. Low near 55F. Winds WSW at 5 to 10 mph. Chance of rain 90%. Rainfall near a quarter of an inch. Locally heavier rainfall possible.\\n\\n## Mon 28\\n\\n## Day\\n\\nCloudy with showers. High 58F. Winds WSW at 5 to 10 mph. Chance of rain 90%. Locally heavier rainfall possible.\\n\\n## Night\\n\\nCloudy with showers. Low 53F. Winds light and variable. Chance of rain 50%.\\n\\n## Tue 29\\n\\n## Day [...] ## Recent Locations\\n\\nMenu\\n\\n## Weather Forecasts\\n\\n## Radar & Maps\\n\\n## News & Media\\n\\n## Products & Account\\n\\n## Lifestyle\\n\\n### Specialty Forecasts\\n\\n# 10 Day Weather-Langstrasse, Z\\u00fcrich, Switzerland\\n\\n## Moderate Warning for Rain\\n\\n## Today\\n\\n## Day\\n\\nCloudy skies with showers and a possible thunderstorm this afternoon. High 67F. Winds WSW at 5 to 10 mph. Chance of rain 90%. Localized flooding is possible.\\n\\nundefined\\n\\nHeads-up\\n\\nThis Is Summer's Prettiest Villain\\n\\n## Night [...] Intervals of clouds and sunshine. High 74F. Winds light and variable.\\n\\n## Night\\n\\nPartly cloudy. Low 57F. Winds light and variable.\\n\\n## Don't Miss\\n\\n## Radar\\n\\n## Summer And Your Skin\\n\\n## Home, Garage & Garden\\n\\n## Trending Now\\n\\n## Seasonal Hub\\n\\n## Escaping A Dinner Plate Fate\\n\\n## Sun & Moon\\n\\n## A Full Week Of Shark Facts\\n\\n## Product Reviews & Deals\\n\\nundefined\\n\\nLinen, Polyester Or Cotton: What To Buy In The Summer To Stay Cool\\n\\nundefined\\n\\n6 Generators Still On Sale (As Low As Prime Day)\\n\\nundefined\", \"score\": 0.47606868}]\n",
      "==================================\u001b[1m Ai Message \u001b[0m==================================\n",
      "Tool Calls:\n",
      "  recommend_clothing (call_cCqeJSMIYDasBZzzCtnOpCat)\n",
      " Call ID: call_cCqeJSMIYDasBZzzCtnOpCat\n",
      "  Args:\n",
      "    weather: Cloudy with showers likely during the afternoon, high 66°F (about 19°C). Chance of rain 90%. Low around 55°F (about 13°C).\n",
      "=================================\u001b[1m Tool Message \u001b[0m=================================\n",
      "Name: recommend_clothing\n",
      "\n",
      "\"Bring a raincoat and waterproof shoes.\"\n",
      "==================================\u001b[1m Ai Message \u001b[0m==================================\n",
      "\n",
      "The current weather in Zurich is cloudy with showers likely during the afternoon, with a high temperature of around 66°F (about 19°C) and a low of about 55°F (around 13°C). The chance of rain is quite high at 90%.\n",
      "\n",
      "Given this weather, I recommend wearing a raincoat and waterproof shoes to keep yourself dry and comfortable. It's also a good idea to have an umbrella handy just in case you encounter any rain throughout the day.\n"
     ]
    }
   ],
   "source": [
    "def print_stream(stream):\n",
    "    \"\"\"Helper function for formatting the stream nicely.\"\"\"\n",
    "    for s in stream:\n",
    "        message = s[\"messages\"][-1]\n",
    "        if isinstance(message, tuple):\n",
    "            print(message)\n",
    "        else:\n",
    "            message.pretty_print()\n",
    "\n",
    "inputs = {\"messages\": [HumanMessage(content=\"What's the weather like in Zurich, and what should I wear based on the temperature?\")]}\n",
    "\n",
    "print_stream(graph.stream(inputs, stream_mode=\"values\"))"
   ]
  },
  {
   "cell_type": "markdown",
   "metadata": {},
   "source": [
    "**What You'll See:**\n",
    "1. **Initial Reasoning**: Agent analyzes the query.\n",
    "2. **Tool Call 1**: Searches for Zurich weather.\n",
    "3. **Tool Result Processing**: Agent examines weather data.\n",
    "4. **Tool Call 2**: Gets clothing recommendations.\n",
    "5. **Final Synthesis**: Agent combines all information into a helpful response.\n"
   ]
  },
  {
   "cell_type": "markdown",
   "metadata": {},
   "source": [
    "### The Complete ReAct Cycle\n",
    "\n",
    "The final execution demonstrates the full ReAct pattern:\n",
    "\n",
    "1. **Reasoning**: \"I need current weather data for Zurich\".\n",
    "2. **Acting**: Calls search_tool(\"Zurich weather today\").\n",
    "3. **Observing**: Processes search results, extracts temperature.\n",
    "4. **Reasoning**: \"Now I need clothing recommendations for this temperature\".\n",
    "5. **Acting**: Calls recommend_clothing(\"temperature from search\").\n",
    "6. **Observing**: Gets clothing suggestions.\n",
    "7. **Reasoning**: \"I can now provide a complete answer\".\n",
    "8. **Final Response**: Synthesizes weather info and clothing recommendations.\n"
   ]
  },
  {
   "cell_type": "markdown",
   "metadata": {},
   "source": [
    "## Key Takeaways\n"
   ]
  },
  {
   "cell_type": "markdown",
   "metadata": {},
   "source": [
    "### What Makes ReAct Powerful\n",
    "\n",
    "1. **Transparency**: You can see the agent's reasoning process.\n",
    "2. **Adaptability**: The agent can handle unexpected results and change course.\n",
    "3. **Extensibility**: It's easy to add new tools and capabilities.\n",
    "4. **Reliability**: The structured approach reduces hallucination and improves accuracy\n"
   ]
  },
  {
   "cell_type": "markdown",
   "metadata": {},
   "source": [
    "### Best Practices\n",
    "\n",
    "1. **Tool Design**: Make tools focused and reliable.\n",
    "2. **Error Handling**: Plan for tool failures and unexpected results.\n",
    "3. **Context Management**: Keep state manageable and relevant.\n",
    "4. **User Experience**: Provide clear feedback about what the agent is doing.\n",
    "\n",
    "The ReAct framework represents a significant step toward more capable and trustworthy AI agents that can reason through complex problems and take meaningful actions in the real world.\n"
   ]
  },
  {
   "cell_type": "markdown",
   "metadata": {},
   "source": [
    "# Exercises\n",
    "\n",
    "Now it's time to put your ReAct knowledge into practice! These exercises will help you build your own tools and extend the agent's capabilities.\n"
   ]
  },
  {
   "cell_type": "markdown",
   "metadata": {},
   "source": [
    "## Exercise 1 - Build a Calculator Tool\n",
    "\n",
    "**Objective:** Create a mathematical calculator tool that can handle complex calculations.\n",
    "\n",
    "Your task is to create a calculator tool that can perform mathematical operations. This tool should be able to handle expressions like \"2 + 3 * 4\", \"sqrt(16)\", and \"sin(π/2)\".\n",
    "\n",
    "### Instructions:\n",
    "1. Create a tool called `calculator_tool` using the `@tool` decorator.\n",
    "2. The tool should accept a mathematical expression as a string.\n",
    "3. Use Python's `eval()` function carefully (or better yet, use the `ast` module for safety).\n",
    "4. Test your tool with various mathematical expressions.\n",
    "5. Add your tool to the tools list and test it with the ReAct agent.\n",
    "\n",
    "### Starter Code:\n"
   ]
  },
  {
   "cell_type": "code",
   "execution_count": null,
   "metadata": {},
   "outputs": [],
   "source": [
    "import math\n",
    "import ast\n",
    "import operator\n",
    "\n",
    "@tool\n",
    "def calculator_tool(expression: str) -> str:\n",
    "    \"\"\"\n",
    "    Safely evaluate mathematical expressions.\n",
    "    \n",
    "    :param expression: A mathematical expression as a string (e.g., \"2 + 3 * 4\")\n",
    "    :return: The result of the calculation\n",
    "    \"\"\"\n",
    "    # TODO: Implement safe mathematical evaluation\n",
    "    # Hint: You can use ast.literal_eval for simple expressions\n",
    "    # or create a safe evaluator for more complex math\n",
    "    pass\n",
    "\n",
    "# TODO: Add calculator_tool to your tools list\n",
    "# TODO: Test with the agent: \"What's 15% of 250 plus the square root of 144?\""
   ]
  },
  {
   "cell_type": "code",
   "execution_count": 22,
   "metadata": {},
   "outputs": [],
   "source": [
    "import math\n",
    "import ast\n",
    "import operator\n",
    "from langchain.tools import tool\n",
    "\n",
    "# Supported operators\n",
    "OPERATORS = {\n",
    "    ast.Add: operator.add,\n",
    "    ast.Sub: operator.sub,\n",
    "    ast.Mult: operator.mul,\n",
    "    ast.Div: operator.truediv,\n",
    "    ast.Pow: operator.pow,\n",
    "    ast.Mod: operator.mod,\n",
    "    ast.USub: operator.neg\n",
    "}\n",
    "\n",
    "# Supported math functions\n",
    "MATH_FUNCS = {\n",
    "    'sqrt': math.sqrt,\n",
    "    'sin': math.sin,\n",
    "    'cos': math.cos,\n",
    "    'tan': math.tan,\n",
    "    'log': math.log,\n",
    "    'exp': math.exp,\n",
    "    'pi': math.pi,\n",
    "    'e': math.e\n",
    "}\n",
    "\n",
    "@tool\n",
    "def calculator_tool(expression: str) -> str:\n",
    "    \"\"\"\n",
    "    Safely evaluate mathematical expressions.\n",
    "    \n",
    "    :param expression: A mathematical expression as a string (e.g., \"2 + 3 * 4\", \"sqrt(16)\")\n",
    "    :return: The result of the calculation\n",
    "    \"\"\"\n",
    "    def eval_node(node):\n",
    "        if isinstance(node, ast.Num):  # For Python < 3.8\n",
    "            return node.n\n",
    "        elif isinstance(node, ast.Constant):  # For Python >= 3.8\n",
    "            return node.value\n",
    "        elif isinstance(node, ast.BinOp):\n",
    "            return OPERATORS[type(node.op)](eval_node(node.left), eval_node(node.right))\n",
    "        elif isinstance(node, ast.UnaryOp):\n",
    "            return OPERATORS[type(node.op)](eval_node(node.operand))\n",
    "        elif isinstance(node, ast.Call):\n",
    "            func_name = node.func.id\n",
    "            if func_name in MATH_FUNCS:\n",
    "                args = [eval_node(arg) for arg in node.args]\n",
    "                return MATH_FUNCS[func_name](*args)\n",
    "            else:\n",
    "                raise ValueError(f\"Unsupported function: {func_name}\")\n",
    "        elif isinstance(node, ast.Name):\n",
    "            if node.id in MATH_FUNCS:\n",
    "                return MATH_FUNCS[node.id]\n",
    "            else:\n",
    "                raise ValueError(f\"Unsupported identifier: {node.id}\")\n",
    "        else:\n",
    "            raise TypeError(f\"Unsupported expression: {ast.dump(node)}\")\n",
    "\n",
    "    try:\n",
    "        parsed = ast.parse(expression, mode='eval')\n",
    "        result = eval_node(parsed.body)\n",
    "        return str(result)\n",
    "    except Exception as e:\n",
    "        return f\"Error: {str(e)}\"\n"
   ]
  },
  {
   "cell_type": "markdown",
   "metadata": {},
   "source": [
    "## Exercise 2 - Create a News Summary Tool\n",
    "\n",
    "**Objective:** Build a tool that can fetch and summarize recent news articles.\n",
    "\n",
    "Create a news summarization tool that works with the existing search functionality. This tool should take search results and create concise summaries of news articles.\n",
    "\n",
    "### Instructions:\n",
    "1. Create a `news_summarizer_tool` that takes news content and creates summaries.\n",
    "2. The tool should extract key information: headline, date, main points.\n",
    "3. Format the output in a readable way.\n",
    "4. Test it by asking the agent to \"search for recent AI news and summarize the top 3 articles\".\n",
    "\n",
    "### Starter Code:\n"
   ]
  },
  {
   "cell_type": "code",
   "execution_count": null,
   "metadata": {},
   "outputs": [],
   "source": [
    "@tool\n",
    "def news_summarizer_tool(news_content: str) -> str:\n",
    "    \"\"\"\n",
    "    Summarize news articles from search results.\n",
    "    \n",
    "    :param news_content: Raw news content or search results\n",
    "    :return: A formatted summary of the news\n",
    "    \"\"\"\n",
    "    # TODO: Parse the news content\n",
    "    # TODO: Extract key information (headlines, dates, main points)\n",
    "    # TODO: Format into a readable summary\n",
    "    # Hint: You might want to split by articles and process each one\n",
    "    pass\n",
    "\n",
    "# TODO: Add to tools list and test with:\n",
    "# \"Find recent news about artificial intelligence and give me a summary\""
   ]
  },
  {
   "cell_type": "code",
   "execution_count": 24,
   "metadata": {},
   "outputs": [],
   "source": [
    "from langchain.tools import tool\n",
    "import re\n",
    "from datetime import datetime\n",
    "\n",
    "@tool\n",
    "def news_summarizer_tool(news_content: str) -> str:\n",
    "    \"\"\"\n",
    "    Summarize news articles from search results.\n",
    "\n",
    "    :param news_content: Raw news content or search results\n",
    "    :return: A formatted summary of the news\n",
    "    \"\"\"\n",
    "    def extract_articles(raw_text):\n",
    "        # Heuristic split by newline or delimiter between articles\n",
    "        return re.split(r'\\n\\s*\\n|\\n---+\\n', raw_text.strip())\n",
    "\n",
    "    def summarize_article(article_text):\n",
    "        lines = article_text.split('\\n')\n",
    "        title = lines[0] if lines else \"Untitled\"\n",
    "        date_match = re.search(r'\\b(?:\\d{1,2}\\s\\w+\\s\\d{4}|\\d{4}-\\d{2}-\\d{2})\\b', article_text)\n",
    "        date = date_match.group(0) if date_match else \"Date not found\"\n",
    "        # Extract main points from sentences (basic heuristics)\n",
    "        sentences = re.split(r'(?<=[.!?]) +', article_text)\n",
    "        main_points = [s for s in sentences if len(s.split()) > 8][:3]\n",
    "        return f\"📰 **{title}** ({date})\\n- \" + \"\\n- \".join(main_points)\n",
    "\n",
    "    try:\n",
    "        articles = extract_articles(news_content)\n",
    "        summaries = [summarize_article(article) for article in articles if article.strip()]\n",
    "        return \"\\n\\n\".join(summaries)\n",
    "    except Exception as e:\n",
    "        return f\"Error summarizing news: {str(e)}\""
   ]
  },
  {
   "cell_type": "markdown",
   "metadata": {},
   "source": [
    "## Testing Your Solutions\n",
    "\n",
    "For each exercise, test your implementation with these commands:\n"
   ]
  },
  {
   "cell_type": "code",
   "execution_count": 23,
   "metadata": {},
   "outputs": [
    {
     "name": "stdout",
     "output_type": "stream",
     "text": [
      "================================\u001b[1m Human Message \u001b[0m=================================\n",
      "\n",
      "Calculate 15% of 250 plus the square root of 144\n",
      "==================================\u001b[1m Ai Message \u001b[0m==================================\n",
      "\n",
      "To solve the expression \\(15\\%\\) of \\(250\\) plus the square root of \\(144\\), we can break it down into two parts:\n",
      "\n",
      "1. Calculate \\(15\\%\\) of \\(250\\):\n",
      "   \\[\n",
      "   15\\% \\text{ of } 250 = \\frac{15}{100} \\times 250 = 37.5\n",
      "   \\]\n",
      "\n",
      "2. Calculate the square root of \\(144\\):\n",
      "   \\[\n",
      "   \\sqrt{144} = 12\n",
      "   \\]\n",
      "\n",
      "Now, we add these two results together:\n",
      "\\[\n",
      "37.5 + 12 = 49.5\n",
      "\\]\n",
      "\n",
      "Thus, \\(15\\%\\) of \\(250\\) plus the square root of \\(144\\) is \\(49.5\\).\n"
     ]
    }
   ],
   "source": [
    "# Exercise 1 Test\n",
    "inputs = {\"messages\": [HumanMessage(content=\"Calculate 15% of 250 plus the square root of 144\")]}\n",
    "print_stream(graph.stream(inputs, stream_mode=\"values\"))"
   ]
  },
  {
   "cell_type": "code",
   "execution_count": 25,
   "metadata": {},
   "outputs": [
    {
     "name": "stdout",
     "output_type": "stream",
     "text": [
      "================================\u001b[1m Human Message \u001b[0m=================================\n",
      "\n",
      "Find recent AI news and summarize the top 3 articles\n",
      "==================================\u001b[1m Ai Message \u001b[0m==================================\n",
      "Tool Calls:\n",
      "  search_tool (call_1K1uii9nha7U9aYlkG8wIut4)\n",
      " Call ID: call_1K1uii9nha7U9aYlkG8wIut4\n",
      "  Args:\n",
      "    query: recent AI news\n",
      "=================================\u001b[1m Tool Message \u001b[0m=================================\n",
      "Name: search_tool\n",
      "\n",
      "[{\"title\": \"The latest AI news we announced in June - Google Blog\", \"url\": \"https://blog.google/technology/ai/google-ai-updates-june-2025/\", \"content\": \"# The latest AI news we announced in June\\n\\nJul 02, 2025\\n\\nHere\\u2019s a recap of some of our biggest AI updates from June, including more ways to search with AI Mode, a new way to share your NotebookLM notebooks publicly, and a new AI to help researchers better understand the human genome.\\n\\nSuperG\\n\\n## Basic explainer [...] a text card reading \\\"AI to revolutionize scientific discovery\\\"\\n\\nWe introduced AlphaGenome: AI to better understand the human genome. Our new, unifying DNA sequence model advances regulatory variant-effect prediction and promises to shed new light on genome function. To advance scientific research, we\\u2019re making AlphaGenome available in preview via our AlphaGenome API for non-commercial research, with plans to release the model in the future. [...] Search finds new voice, and photos bright,  \\nWhile Chromebooks gain AI's keenest edge,  \\nAnd learning's path is filled with light.\\n\\nGenomes unlock, from knowledge pledge,  \\nAnd robots learn, with vision clear,  \\nWhile cancer's foe meets AI's siege.\\n\\nFrom Google's labs, new AI doth spring,  \\nWith Gemini's models taking flight,  \\nAnd tools for coders, joy to bring.\\n\\nSearch finds new voice, and photos bright,  \\nWhile Chromebooks gain AI's keenest edge,  \\nAnd learning's path is filled with light.\", \"score\": 0.8259413}, {\"title\": \"Artificial Intelligence News - ScienceDaily\", \"url\": \"https://www.sciencedaily.com/news/computers_math/artificial_intelligence/\", \"content\": \"ScienceDaily\\n\\n# Artificial Intelligence News\\n\\n## Top Headlines\\n\\n## Latest Headlines\\n\\n## Earlier Headlines\\n\\n### Wednesday, May 28, 2025\\n\\n### Tuesday, May 27, 2025\\n\\n### Thursday, May 22, 2025\\n\\n### Wednesday, May 21, 2025\\n\\n### Monday, May 19, 2025\\n\\n### Thursday, May 15, 2025\\n\\n### Wednesday, May 14, 2025\\n\\n### Tuesday, May 13, 2025\\n\\n### Monday, May 12, 2025\\n\\n### Thursday, May 8, 2025\\n\\n### Wednesday, May 7, 2025\\n\\n### Tuesday, May 6, 2025\\n\\n### Monday, May 5, 2025\\n\\n### Thursday, May 1, 2025 [...] ### Wednesday, April 30, 2025\\n\\n### Monday, April 28, 2025\\n\\n### Friday, April 25, 2025\\n\\n### Thursday, April 24, 2025\\n\\n### Wednesday, April 23, 2025\\n\\n### Tuesday, April 22, 2025\\n\\n### Monday, April 21, 2025\\n\\n### Wednesday, April 16, 2025\\n\\n### Tuesday, April 15, 2025\\n\\n### Monday, April 14, 2025\\n\\n### Thursday, April 10, 2025\\n\\n### Wednesday, April 9, 2025\\n\\n### Tuesday, April 8, 2025\\n\\n### Monday, April 7, 2025\\n\\n### Friday, April 4, 2025\\n\\n### Thursday, April 3, 2025\\n\\n### Wednesday, April 2, 2025 [...] ### Monday, March 31, 2025\\n\\n### Friday, March 28, 2025\\n\\n### Thursday, March 27, 2025\\n\\n### Wednesday, March 26, 2025\\n\\n### Tuesday, March 25, 2025\\n\\n### Thursday, March 20, 2025\\n\\n### Wednesday, March 19, 2025\\n\\n### Tuesday, March 18, 2025\\n\\n## Breaking\\n\\n## Trending Topics\\n\\n## Strange & Offbeat\\n\\nStay informed with ScienceDaily's free email newsletter, updated daily and weekly. Or view our many newsfeeds in your RSS reader:\\n\\nKeep up to date with the latest news from ScienceDaily via social networks:\", \"score\": 0.80089486}, {\"title\": \"China AI action plan - CNBC\", \"url\": \"https://www.cnbc.com/2025/07/26/china-ai-action-plan.html\", \"content\": \"The news came as the annual state-organized World Artificial Intelligence Conference kicked off in Shanghai with an opening speech by Premier Li Qiang, who announced that the Chinese government has proposed the establishment of a global AI cooperation organization, according to an official readout.\\n\\nDays earlier, U.S. President Donald Trump announced an American action plan for AI that included calls to reduce alleged \\\"woke\\\" bias in AI models and support the deployment of U.S. tech overseas. [...] Since 2022, the U.S. has sought to restrict China's access to advanced semiconductors for training AI models. Earlier this month, U.S. chipmaker Nvidia said the U.S. was allowing it to resume shipments of a less advanced H20 chip to China after a roughly three-month pause.\\n\\nHowever, China has been developing homegrown alternatives, which Nvidia CEO Jensen Huang both praised and described as \\\"formidable\\\" this month during his third trip to China this year.\", \"score\": 0.7336813}, {\"title\": \"Top 11 New Technologies in AI: Exploring the Latest Trends - devabit\", \"url\": \"https://devabit.com/blog/top-11-new-technologies-in-ai-exploring-the-latest-trends/\", \"content\": \"A recent LinkedIn US Executive Confidence Index Survey from June 2023 reflects an optimistic outlook: 47% of executives believe generative AI will boost productivity; 44% plan to augment their newest AI technology utilization in the coming year; and 40% view AI as a key to unlocking growth and revenue. Microsoft's 2023 Work Trend Index further bolsters this sentiment, revealing that a whopping 70% of individuals would gladly delegate tasks to AI to ease their workloads. [...] GPT-3.5 and GPT-4 are just the beginning. The pace of AI model development suggests that even more capable language models are on the horizon, with implications for industries ranging from content creation to virtual assistants.\\n\\nOn November 6, 2023, CEO of OpenAI Sam Altman introduced a completely new version of Chat GPT that includes GPTs, Chat GPT Store, GPT-4 Turbo, and other new technologies in AI that we are going to describe in this article. [...] The breakthrough came with the development of deep learning models like GPT. GPT-1, introduced by OpenAI in 2018, marked a significant leap in chatbot capabilities. It could generate contextually relevant text, even though it had limitations. GPT-2, released in 2019, was known for its ability to generate human-like text on a larger scale. However, its release was initially controversial due to concerns about potential misuse. GPT-3, released in 2020, further improved upon its predecessors and\", \"score\": 0.72814995}, {\"title\": \"Advancements in AI and Machine Learning\", \"url\": \"https://ep.jhu.edu/news/advancements-in-ai-and-machine-learning/\", \"content\": \"The field of generative AI has seen remarkable progress, particularly with the development of advanced Large Language Models (LLMs). Meta\\u2019s recent release of Llama 4 includes models like Scout and Maverick that are designed to handle politically and socially contentious questions more effectively than their predecessors. They demonstrate reduced political bias and can process diverse data types, including text, video, images, and audio. \\u200b [...] AI algorithms process vast datasets to provide insights that support strategic planning and resource allocation to streamline decision-making. This allows engineers to focus more on innovation and complex problem-solving.\\n\\n## Recent Advancements in AI and Machine Learning\\n\\nThe advancements in AI and ML have exponentially enhanced applications across multiple sectors. Here\\u2019s how AI and ML have changed various industries.\\n\\n### Breakthroughs in Generative AI and Large Language Models [...] Today, AI has been seamlessly integrated into everyday life. Advances in ML, natural language processing (NLP), and computer vision have enabled AI to perform ever-more complex tasks such as diagnosing medical conditions, powering autonomous vehicles, and personalizing user experiences in digital platforms.\\n\\nAs AI\\u2019s evolution continues, we can expect it to further revolutionize the world through even greater efficiency and new avenues for technological development.\", \"score\": 0.6636041}]\n",
      "==================================\u001b[1m Ai Message \u001b[0m==================================\n",
      "Tool Calls:\n",
      "  search_tool (call_xyrTA7ryzCS3NcWe1CToYfZf)\n",
      " Call ID: call_xyrTA7ryzCS3NcWe1CToYfZf\n",
      "  Args:\n",
      "    query: Artificial Intelligence news summary July 2025\n",
      "  search_tool (call_xt0Nx6GJjLPhVb6suojsMC93)\n",
      " Call ID: call_xt0Nx6GJjLPhVb6suojsMC93\n",
      "  Args:\n",
      "    query: Google AI updates July 2025\n",
      "  search_tool (call_VBIblsUfTrxXj6ZpRFhxoz2A)\n",
      " Call ID: call_VBIblsUfTrxXj6ZpRFhxoz2A\n",
      "  Args:\n",
      "    query: China AI action plan July 2025\n",
      "=================================\u001b[1m Tool Message \u001b[0m=================================\n",
      "Name: search_tool\n",
      "\n",
      "[{\"title\": \"China AI action plan - CNBC\", \"url\": \"https://www.cnbc.com/2025/07/26/china-ai-action-plan.html\", \"content\": \"CREATE FREE ACCOUNT\\n\\nMarkets\\n\\nBusiness\\n\\nInvesting\\n\\nTech\\n\\nPolitics\\n\\nVideo\\n\\nWatchlist\\n\\nInvesting Club\\n\\nImage 6: Join IC\\n\\nPRO\\n\\nImage 7: Join Pro\\n\\nLivestream\\n\\nMenu\\n\\nChina Economy\\n\\nChina releases AI action plan days after the U.S. as global tech race heats up\\n==============================================================================\\n\\nPublished Sat, Jul 26 2025 6:54 AM EDT Updated 5 Hours Ago\\n\\nImage 8: thumbnail\\n\\nEvelyn Cheng@in/evelyn-cheng-53b23624@chengevelyn\\n\\nWATCH LIVE [...] Image 9: Li Qiang, China's premier, during the World Artificial Intelligence Conference (WAIC) in Shanghai, China, on Saturday, July 26, 2025. Star founders, Beijing officials and deep-pocketed financiers converge on Shanghai by the hundreds this weekend to attend China's most important AI summit. Photographer: Qilai Shen/Bloomberg via Getty Images\\n\\nChinese Premier Li Qiang spoke at the opening of the World Artificial Intelligence Conference in Shanghai on Saturday, July 26, 2025. [...] Published Time: 2025-07-26T10:54:15+0000\\n\\nChina AI action plan\\n\\n===============\\n\\nSkip Navigation\\n\\nImage 1: CNBC logo\\n\\nImage 2: logo\\n\\nChina releases AI action plan days after the U.S. as global tech race heats up\\n\\n    Livestream  \\n\\nCREATE FREE ACCOUNT\\n\\nMarkets\\n\\n   Pre-Markets\\n   U.S. Markets\\n   Currencies\\n   Cryptocurrency\\n   Futures & Commodities\\n   Bonds\\n   Funds & ETFs\\n\\nBusiness\", \"score\": 0.8832463}, {\"title\": \"China proposes new global AI cooperation organisation | Reuters\", \"url\": \"https://www.reuters.com/world/china/china-proposes-new-global-ai-cooperation-organisation-2025-07-26/\", \"content\": \"Item 1 of 5 People interact with a humanoid robot at a Fourier booth during the World Artificial Intelligence Conference in Shanghai, China July 26, 2025. REUTERS/Go Nakamura\\n\\n[1/5]People interact with a humanoid robot at a Fourier booth during the World Artificial Intelligence Conference in Shanghai, China July 26, 2025. REUTERS/Go Nakamura Purchase Licensing Rights, opens new tab [...] Published Time: 2025-07-26T02:09:23.232Z\\n\\nChina proposes new global AI cooperation organisation | Reuters\\n\\n===============\\n\\nSkip to main content\\n\\nExclusive news, data and analytics for financial market professionals Learn more about Refinitiv\\n\\n\\n\\n   Summary\\n   Companies [...] \\u00a9 2025 Reuters. All rights reserved\\n\\nImage 23Image 24Image 25\", \"score\": 0.7598145}, {\"title\": \"Full Stack: China's Evolving Industrial Policy for AI - RAND Corporation\", \"url\": \"https://www.rand.org/pubs/perspectives/PEA4012-1.html\", \"content\": \"Finally, Beijing has begun directly promoting the adoption of AI applications across all sectors of society as part of its AI industrial policy. In an April 2025 Politburo meeting on AI, Xi argued that China\\u2019s AI industry should be \\u201cstrongly oriented toward applications.\\u201d( National AI plans, such as the 2017 AI development plan, as well as local government AI+ action plans, focus heavily on AI integration into public services and government operations.( China\\u2019s State-owned Assets Supervision [...] ( Xinhua, \\\"At the 20th Collective Study Session of the CCP Central Committee Politburo, Xi Jinping, Stresses: Persist in Being Self-Reliant, Be Strongly Oriented Toward Applications, and Push the Orderly Development of Artificial Intelligence,\\\" trans. by Ben Murphy, Center for Security and Emerging Technology, April 28, 2025b, [...] Following Beijing\\u2019s lead, many Chinese cities have launched AI and \\u201cAI+\\u201d action plans aimed at supporting local start-ups and promoting AI adoption in other sectors. The Beijing city government\\u2019s AI+ action plan aims to integrate AI into government services and build a shared computing platform for training large language models (LLMs).( Shenzhen has launched an AI action plan aimed at building a 4,000 PFLOP/s intelligent computing center (the equivalent of about 4,000 Nvidia H100s).(\", \"score\": 0.7309246}, {\"title\": \"[PDF] THE SOCIAL FOUNDATIONS OF CHINA'S ARTIFICIAL ...\", \"url\": \"https://nationalsecurity.virginia.edu/sites/nationalsecurity/files/2025-06/00015_%2820250613%29_NSDPI_The%20Social%20Foundations%20of%20China%27s%20Artificial%20Intelligence%20Policies.pdf\", \"content\": \"Previously, Chinese authorities approached AI as one of several critical fields of emerging technologies, as mentioned in China\\u2019s 13th Five-Year Plan published in 2016. The Made in China 2025 Initiative, announced by the State Council in 2015, also identified Al as a focused area for increasing China\\u2019s global competitiveness, but with muted emphasis. However, in the wake of Ke\\u2019s defeat, the Chinese government announced its first ever unified national action plan on AI. On July 8, 2017, the [...] nations and comprehensively achieve the struggle toward the goal of a moderately prosperous society.\\u201d23 \\u2022 \\u201cBy 2025, China will achieve major breakthroughs in basic theories for AI, such that some technologies and applications achieve a world-leading level and AI becomes the main driving force for China\\u2019s industrial upgrading and economic transformation, while intelligent social construction has made positive programs.\\u201d24 \\u2022 \\u201cBy 2030, China\\u2019s AI theories, technologies, and applications should [...] China Xinhua News Agency, \\u201cChina\\u2019s tax policies invigorate private economy,\\u201d February 26, 2025. Source:  45 Wang Wenzheng \\u6c6a\\u2f42\\u6b63. \\u201c\\u524d\\u4e09\\u5b63\\u5ea6\\u76f8\\u5173\\u9886\\u57df\\u51cf\\u7a0e\\u964d\\u8d39\\u9000\\u7a0e\\u8d852 \\u4e07\\u4ebf\\u5143 (\\u201cIn the first three quarters, tax cuts, fee reductions, and tax refunds in related fields exceeded 2 trillion yuan.\\u201d) November 13, 2024. Source:  46 Ibid. 16 computing power. Chinese open-source reporting stated that in February 2025, representatives from 27 Chinese ministries and commissions gathered in Beijing to discuss an \\u201cAI+\\u201d action plan,\", \"score\": 0.72698855}, {\"title\": \"China Is Spending Billions to Become an A.I. Superpower\", \"url\": \"https://www.nytimes.com/2025/07/16/technology/china-ai.html\", \"content\": \"Image 1: A large, arched walkway made of concentric slats creates a tunnel over a path between two buildings flanked by green trees.\\n\\nLocal governments have fueled the growth of A.I. start-ups by building developments like Dream Town in Hangzhou, a city that is home to Alibaba, DeepSeek and a growing pool of A.I. talent.Credit...Qilai Shen for The New York Times\\n\\nImage 2: Meaghan Tobin\\n\\nBy Meaghan Tobin\\n\\nReporting from Taipei, Taiwan\\n\\nJuly 16, 2025, 12:00 a.m. ET [...] Published Time: 2025-07-16T04:00:06.276Z\\n\\nChina Is Spending Billions to Become an A.I. Superpower - The New York Times\\n\\n===============\\n\\nSkip to contentSkip to site indexSearch & Section Navigation Section Navigation\\n\\nSEARCH\\n\\nTechnology\\n\\n[](\\n\\nSubscribe for $1/weekLog in[](\\n\\nWednesday, July 16, 2025\\n\\nToday\\u2019s Paper\\n\\nSubscribe for $1/week\\n\\n[](\\nArtificial Intelligence\\n\\n   New E.U. Rules\\n   Water Supply Issues\\n   Weather Prediction\\n   Microsoft and A.I. Education\\n   Tech Giant Spending Spree\", \"score\": 0.7230167}]\n",
      "==================================\u001b[1m Ai Message \u001b[0m==================================\n",
      "\n",
      "Here are summaries of the top three recent articles on AI:\n",
      "\n",
      "### 1. **Google's AI Action Plan and Recent Developments**  \n",
      "   **Source**: [TechCrunch](https://techcrunch.com/2025/07/23/googles-ai-overviews-have-2b-monthly-users-ai-mode-100m-in-the-us-and-india/)  \n",
      "   **Summary**: Google CEO Sundar Pichai announced significant growth in the usage of Google's AI features during a quarterly earnings call. AI Overviews, which provide summaries for search results, now have 2 billion monthly users, up from 1.5 billion just a few months prior. Other features like AI Mode have reached 100 million users in the U.S. and India. Google is also updating various applications and services, enhancing their functionality to support better user experiences in areas like health and research.\n",
      "\n",
      "### 2. **China's Aggressive AI Strategy Amid Global Tensions**  \n",
      "   **Source**: [CNBC](https://www.cnbc.com/2025/07/26/china-ai-action-plan.html)  \n",
      "   **Summary**: Premier Li Qiang announced China's new AI action plan during the World Artificial Intelligence Conference in Shanghai, positioning AI as a key focus for national development. Despite facing U.S. sanctions, China aims for self-sufficiency in AI technologies by leveraging domestic innovations and addressing semiconductor shortages. The announcement includes proposals for global cooperation in AI, reflecting China's ambitions to catch up with U.S. advancements.\n",
      "\n",
      "### 3. **U.S. Executive Orders on AI under Trump Administration**  \n",
      "   **Source**: [NPR](https://www.npr.org/2025/07/23/nx-s1-5476771/trump-artificial-intelligence-woke-eo)  \n",
      "   **Summary**: On July 23, 2025, President Trump signed an executive order as part of America’s AI Action Plan, focusing on deregulation and the promotion of ideologically neutral AI systems to bolster U.S. technological competitiveness. The plan aims to strip AI models used by federal contractors of any political biases. Trump's administration is positioning itself towards a more aggressive AI policy to maintain a competitive edge over nations like China.\n",
      "\n",
      "These articles highlight key developments in AI strategies in major technology hubs like the U.S. and China, showcasing the rapid evolution of the field amid global competition.\n"
     ]
    }
   ],
   "source": [
    "# Exercise 2 Test  \n",
    "inputs = {\"messages\": [HumanMessage(content=\"Find recent AI news and summarize the top 3 articles\")]}\n",
    "print_stream(graph.stream(inputs, stream_mode=\"values\"))"
   ]
  },
  {
   "cell_type": "markdown",
   "metadata": {},
   "source": [
    "## Authors\n"
   ]
  },
  {
   "cell_type": "markdown",
   "metadata": {},
   "source": [
    "[Joseph Santarcangelo](https://author.skills.network/instructors/joseph_santarcangelo): Joseph has a Ph.D. in Electrical Engineering, his research focused on using machine learning, signal processing, and computer vision to determine how videos impact human cognition. Joseph has been working for IBM since he completed his PhD.\n",
    "\n",
    "[Tenzin Migmar](https://author.skills.network/instructors/tenzin_migmar): Hi, I'm Tenzin. I'm a data scientist intern at IBM interested in applying machine learning to solve difficult problems. Prior to joining IBM, I worked as a research assistant on projects exploring perspectivism and personalization within large language models. In my free time, I enjoy recreational programming and learning to cook new recipes.\n",
    "\n",
    "[Faranak Heidari](https://www.linkedin.com/in/faranakhdr/) is a data scientist and AI developer in IBM. \n"
   ]
  },
  {
   "cell_type": "markdown",
   "metadata": {},
   "source": [
    "<!--#### Change Log\n"
   ]
  },
  {
   "cell_type": "markdown",
   "metadata": {},
   "source": [
    "<!--\n",
    "|Date (YYYY-MM-DD)|Version|Changed By|Change Description|\n",
    "|-|-|-|-|\n",
    "|2024-02-23|0.2|Elio Di Nino|Update library documentation|\n",
    "|2020-07-17|0.1|Sam|Create lab template|\n",
    "-->\n"
   ]
  },
  {
   "cell_type": "markdown",
   "metadata": {},
   "source": [
    "Copyright © IBM Corporation. All rights reserved.\n"
   ]
  }
 ],
 "metadata": {
  "kernelspec": {
   "display_name": "Python 3 (ipykernel)",
   "language": "python",
   "name": "python3"
  },
  "language_info": {
   "codemirror_mode": {
    "name": "ipython",
    "version": 3
   },
   "file_extension": ".py",
   "mimetype": "text/x-python",
   "name": "python",
   "nbconvert_exporter": "python",
   "pygments_lexer": "ipython3",
   "version": "3.12.8"
  },
  "prev_pub_hash": "4d4cf4e290a07c811f3b1b768cb569d7d2cfaa146146a1c776a0f3ece8c885c4"
 },
 "nbformat": 4,
 "nbformat_minor": 4
}
